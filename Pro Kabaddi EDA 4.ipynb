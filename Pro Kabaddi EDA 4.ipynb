{
 "cells": [
  {
   "cell_type": "code",
   "execution_count": 1,
   "id": "9a8f9284",
   "metadata": {},
   "outputs": [],
   "source": [
    "import pandas as pd\n",
    "import numpy as np\n",
    "import matplotlib.pyplot as plt\n",
    "from IPython.core.interactiveshell import InteractiveShell\n",
    "InteractiveShell.ast_node_interactivity = \"all\""
   ]
  },
  {
   "cell_type": "code",
   "execution_count": 2,
   "id": "4b393644",
   "metadata": {},
   "outputs": [],
   "source": [
    "df = pd.read_csv(r'application.csv')"
   ]
  },
  {
   "cell_type": "markdown",
   "id": "87b0b7b7",
   "metadata": {},
   "source": [
    "## Bivariate Analysis"
   ]
  },
  {
   "cell_type": "code",
   "execution_count": 4,
   "id": "78a0b5a1",
   "metadata": {},
   "outputs": [
    {
     "data": {
      "text/plain": [
       "0.08155567117585848"
      ]
     },
     "execution_count": 4,
     "metadata": {},
     "output_type": "execute_result"
    },
    {
     "data": {
      "text/html": [
       "<div>\n",
       "<style scoped>\n",
       "    .dataframe tbody tr th:only-of-type {\n",
       "        vertical-align: middle;\n",
       "    }\n",
       "\n",
       "    .dataframe tbody tr th {\n",
       "        vertical-align: top;\n",
       "    }\n",
       "\n",
       "    .dataframe thead th {\n",
       "        text-align: right;\n",
       "    }\n",
       "</style>\n",
       "<table border=\"1\" class=\"dataframe\">\n",
       "  <thead>\n",
       "    <tr style=\"text-align: right;\">\n",
       "      <th></th>\n",
       "      <th>OCCUPATION_TYPE</th>\n",
       "      <th>counts</th>\n",
       "      <th>avg_default</th>\n",
       "    </tr>\n",
       "  </thead>\n",
       "  <tbody>\n",
       "    <tr>\n",
       "      <th>0</th>\n",
       "      <td>Accountants</td>\n",
       "      <td>513</td>\n",
       "      <td>0.052632</td>\n",
       "    </tr>\n",
       "    <tr>\n",
       "      <th>1</th>\n",
       "      <td>Cleaning staff</td>\n",
       "      <td>218</td>\n",
       "      <td>0.091743</td>\n",
       "    </tr>\n",
       "    <tr>\n",
       "      <th>2</th>\n",
       "      <td>Cooking staff</td>\n",
       "      <td>307</td>\n",
       "      <td>0.071661</td>\n",
       "    </tr>\n",
       "    <tr>\n",
       "      <th>3</th>\n",
       "      <td>Core staff</td>\n",
       "      <td>1405</td>\n",
       "      <td>0.051957</td>\n",
       "    </tr>\n",
       "    <tr>\n",
       "      <th>4</th>\n",
       "      <td>Drivers</td>\n",
       "      <td>932</td>\n",
       "      <td>0.121245</td>\n",
       "    </tr>\n",
       "    <tr>\n",
       "      <th>5</th>\n",
       "      <td>HR staff</td>\n",
       "      <td>26</td>\n",
       "      <td>0.153846</td>\n",
       "    </tr>\n",
       "    <tr>\n",
       "      <th>6</th>\n",
       "      <td>High skill tech staff</td>\n",
       "      <td>536</td>\n",
       "      <td>0.070896</td>\n",
       "    </tr>\n",
       "    <tr>\n",
       "      <th>7</th>\n",
       "      <td>IT staff</td>\n",
       "      <td>31</td>\n",
       "      <td>0.000000</td>\n",
       "    </tr>\n",
       "    <tr>\n",
       "      <th>8</th>\n",
       "      <td>Laborers</td>\n",
       "      <td>2783</td>\n",
       "      <td>0.113906</td>\n",
       "    </tr>\n",
       "    <tr>\n",
       "      <th>9</th>\n",
       "      <td>Low-skill Laborers</td>\n",
       "      <td>113</td>\n",
       "      <td>0.176991</td>\n",
       "    </tr>\n",
       "    <tr>\n",
       "      <th>10</th>\n",
       "      <td>Managers</td>\n",
       "      <td>1067</td>\n",
       "      <td>0.058107</td>\n",
       "    </tr>\n",
       "    <tr>\n",
       "      <th>11</th>\n",
       "      <td>Medicine staff</td>\n",
       "      <td>433</td>\n",
       "      <td>0.060046</td>\n",
       "    </tr>\n",
       "    <tr>\n",
       "      <th>12</th>\n",
       "      <td>Private service staff</td>\n",
       "      <td>133</td>\n",
       "      <td>0.037594</td>\n",
       "    </tr>\n",
       "    <tr>\n",
       "      <th>13</th>\n",
       "      <td>Realty agents</td>\n",
       "      <td>31</td>\n",
       "      <td>0.000000</td>\n",
       "    </tr>\n",
       "    <tr>\n",
       "      <th>14</th>\n",
       "      <td>Sales staff</td>\n",
       "      <td>1631</td>\n",
       "      <td>0.090129</td>\n",
       "    </tr>\n",
       "    <tr>\n",
       "      <th>15</th>\n",
       "      <td>Secretaries</td>\n",
       "      <td>58</td>\n",
       "      <td>0.120690</td>\n",
       "    </tr>\n",
       "    <tr>\n",
       "      <th>16</th>\n",
       "      <td>Security staff</td>\n",
       "      <td>338</td>\n",
       "      <td>0.115385</td>\n",
       "    </tr>\n",
       "    <tr>\n",
       "      <th>17</th>\n",
       "      <td>Waiters/barmen staff</td>\n",
       "      <td>59</td>\n",
       "      <td>0.169492</td>\n",
       "    </tr>\n",
       "  </tbody>\n",
       "</table>\n",
       "</div>"
      ],
      "text/plain": [
       "          OCCUPATION_TYPE  counts  avg_default\n",
       "0             Accountants     513     0.052632\n",
       "1          Cleaning staff     218     0.091743\n",
       "2           Cooking staff     307     0.071661\n",
       "3              Core staff    1405     0.051957\n",
       "4                 Drivers     932     0.121245\n",
       "5                HR staff      26     0.153846\n",
       "6   High skill tech staff     536     0.070896\n",
       "7                IT staff      31     0.000000\n",
       "8                Laborers    2783     0.113906\n",
       "9      Low-skill Laborers     113     0.176991\n",
       "10               Managers    1067     0.058107\n",
       "11         Medicine staff     433     0.060046\n",
       "12  Private service staff     133     0.037594\n",
       "13          Realty agents      31     0.000000\n",
       "14            Sales staff    1631     0.090129\n",
       "15            Secretaries      58     0.120690\n",
       "16         Security staff     338     0.115385\n",
       "17   Waiters/barmen staff      59     0.169492"
      ]
     },
     "execution_count": 4,
     "metadata": {},
     "output_type": "execute_result"
    }
   ],
   "source": [
    "## Occupation type\n",
    "df['TARGET'].mean()\n",
    "df.groupby(['OCCUPATION_TYPE']).agg(counts = ('SK_ID_CURR', 'count'), avg_default = ('TARGET', 'mean')).reset_index()"
   ]
  },
  {
   "cell_type": "code",
   "execution_count": 5,
   "id": "ccb1a32d",
   "metadata": {},
   "outputs": [],
   "source": [
    "from scipy.stats import chi2_contingency\n",
    "def chisquare(df, var1, var2):\n",
    "    crosstab = pd.crosstab(df[var1], df[var2])\n",
    "    return chi2_contingency(crosstab)"
   ]
  },
  {
   "cell_type": "code",
   "execution_count": 6,
   "id": "52f3c302",
   "metadata": {},
   "outputs": [
    {
     "data": {
      "text/plain": [
       "Chi2ContingencyResult(statistic=118.048498061163, pvalue=3.6263791906785435e-17, dof=17, expected_freq=array([[4.68050876e+02, 4.49491238e+01],\n",
       "       [1.98898813e+02, 1.91011871e+01],\n",
       "       [2.80100622e+02, 2.68993782e+01],\n",
       "       [1.28189373e+03, 1.23106275e+02],\n",
       "       [8.50338044e+02, 8.16619559e+01],\n",
       "       [2.37218768e+01, 2.27812323e+00],\n",
       "       [4.89035613e+02, 4.69643867e+01],\n",
       "       [2.82837761e+01, 2.71622386e+00],\n",
       "       [2.53915319e+03, 2.43846806e+02],\n",
       "       [1.03098926e+02, 9.90107405e+00],\n",
       "       [9.73509327e+02, 9.34906727e+01],\n",
       "       [3.95060486e+02, 3.79395138e+01],\n",
       "       [1.21346523e+02, 1.16534765e+01],\n",
       "       [2.82837761e+01, 2.71622386e+00],\n",
       "       [1.48809158e+03, 1.42908423e+02],\n",
       "       [5.29180328e+01, 5.08196721e+00],\n",
       "       [3.08384398e+02, 2.96156020e+01],\n",
       "       [5.38304127e+01, 5.16958734e+00]]))"
      ]
     },
     "execution_count": 6,
     "metadata": {},
     "output_type": "execute_result"
    }
   ],
   "source": [
    "chisquare(df, 'OCCUPATION_TYPE', 'TARGET')"
   ]
  },
  {
   "cell_type": "code",
   "execution_count": 7,
   "id": "b10b8997",
   "metadata": {},
   "outputs": [],
   "source": [
    "def bivariate_cat(df, var1, var2):\n",
    "    grp = df.groupby([var1]).agg(counts = ('SK_ID_CURR', 'count'), avg_default = (var2, 'mean')).reset_index()\n",
    "    return  grp"
   ]
  },
  {
   "cell_type": "code",
   "execution_count": 8,
   "id": "a9f744d5",
   "metadata": {},
   "outputs": [
    {
     "data": {
      "text/html": [
       "<div>\n",
       "<style scoped>\n",
       "    .dataframe tbody tr th:only-of-type {\n",
       "        vertical-align: middle;\n",
       "    }\n",
       "\n",
       "    .dataframe tbody tr th {\n",
       "        vertical-align: top;\n",
       "    }\n",
       "\n",
       "    .dataframe thead th {\n",
       "        text-align: right;\n",
       "    }\n",
       "</style>\n",
       "<table border=\"1\" class=\"dataframe\">\n",
       "  <thead>\n",
       "    <tr style=\"text-align: right;\">\n",
       "      <th></th>\n",
       "      <th>FLAG_OWN_CAR</th>\n",
       "      <th>counts</th>\n",
       "      <th>avg_default</th>\n",
       "    </tr>\n",
       "  </thead>\n",
       "  <tbody>\n",
       "    <tr>\n",
       "      <th>0</th>\n",
       "      <td>N</td>\n",
       "      <td>10179</td>\n",
       "      <td>0.084488</td>\n",
       "    </tr>\n",
       "    <tr>\n",
       "      <th>1</th>\n",
       "      <td>Y</td>\n",
       "      <td>5197</td>\n",
       "      <td>0.075813</td>\n",
       "    </tr>\n",
       "  </tbody>\n",
       "</table>\n",
       "</div>"
      ],
      "text/plain": [
       "  FLAG_OWN_CAR  counts  avg_default\n",
       "0            N   10179     0.084488\n",
       "1            Y    5197     0.075813"
      ]
     },
     "execution_count": 8,
     "metadata": {},
     "output_type": "execute_result"
    }
   ],
   "source": [
    "# FLAG_OWN_CAR\n",
    "bivariate_cat(df, 'FLAG_OWN_CAR', 'TARGET')"
   ]
  },
  {
   "cell_type": "code",
   "execution_count": 9,
   "id": "aedb4cc2",
   "metadata": {},
   "outputs": [
    {
     "data": {
      "text/plain": [
       "Chi2ContingencyResult(statistic=3.3415004792077827, pvalue=0.06755298030701706, dof=1, expected_freq=array([[9348.8448231,  830.1551769],\n",
       "       [4773.1551769,  423.8448231]]))"
      ]
     },
     "execution_count": 9,
     "metadata": {},
     "output_type": "execute_result"
    }
   ],
   "source": [
    "chisquare(df, 'FLAG_OWN_CAR', 'TARGET')"
   ]
  },
  {
   "cell_type": "code",
   "execution_count": 10,
   "id": "8e18f3b3",
   "metadata": {},
   "outputs": [
    {
     "data": {
      "text/html": [
       "<div>\n",
       "<style scoped>\n",
       "    .dataframe tbody tr th:only-of-type {\n",
       "        vertical-align: middle;\n",
       "    }\n",
       "\n",
       "    .dataframe tbody tr th {\n",
       "        vertical-align: top;\n",
       "    }\n",
       "\n",
       "    .dataframe thead th {\n",
       "        text-align: right;\n",
       "    }\n",
       "</style>\n",
       "<table border=\"1\" class=\"dataframe\">\n",
       "  <thead>\n",
       "    <tr style=\"text-align: right;\">\n",
       "      <th></th>\n",
       "      <th>age</th>\n",
       "      <th>counts</th>\n",
       "      <th>avg_default</th>\n",
       "    </tr>\n",
       "  </thead>\n",
       "  <tbody>\n",
       "    <tr>\n",
       "      <th>0</th>\n",
       "      <td>21.0</td>\n",
       "      <td>24</td>\n",
       "      <td>0.125000</td>\n",
       "    </tr>\n",
       "    <tr>\n",
       "      <th>1</th>\n",
       "      <td>22.0</td>\n",
       "      <td>97</td>\n",
       "      <td>0.154639</td>\n",
       "    </tr>\n",
       "    <tr>\n",
       "      <th>2</th>\n",
       "      <td>23.0</td>\n",
       "      <td>169</td>\n",
       "      <td>0.183432</td>\n",
       "    </tr>\n",
       "    <tr>\n",
       "      <th>3</th>\n",
       "      <td>24.0</td>\n",
       "      <td>186</td>\n",
       "      <td>0.134409</td>\n",
       "    </tr>\n",
       "    <tr>\n",
       "      <th>4</th>\n",
       "      <td>25.0</td>\n",
       "      <td>208</td>\n",
       "      <td>0.129808</td>\n",
       "    </tr>\n",
       "    <tr>\n",
       "      <th>5</th>\n",
       "      <td>26.0</td>\n",
       "      <td>221</td>\n",
       "      <td>0.090498</td>\n",
       "    </tr>\n",
       "    <tr>\n",
       "      <th>6</th>\n",
       "      <td>27.0</td>\n",
       "      <td>335</td>\n",
       "      <td>0.092537</td>\n",
       "    </tr>\n",
       "    <tr>\n",
       "      <th>7</th>\n",
       "      <td>28.0</td>\n",
       "      <td>461</td>\n",
       "      <td>0.097614</td>\n",
       "    </tr>\n",
       "    <tr>\n",
       "      <th>8</th>\n",
       "      <td>29.0</td>\n",
       "      <td>345</td>\n",
       "      <td>0.084058</td>\n",
       "    </tr>\n",
       "    <tr>\n",
       "      <th>9</th>\n",
       "      <td>30.0</td>\n",
       "      <td>426</td>\n",
       "      <td>0.126761</td>\n",
       "    </tr>\n",
       "    <tr>\n",
       "      <th>10</th>\n",
       "      <td>31.0</td>\n",
       "      <td>378</td>\n",
       "      <td>0.105820</td>\n",
       "    </tr>\n",
       "    <tr>\n",
       "      <th>11</th>\n",
       "      <td>32.0</td>\n",
       "      <td>423</td>\n",
       "      <td>0.115839</td>\n",
       "    </tr>\n",
       "    <tr>\n",
       "      <th>12</th>\n",
       "      <td>33.0</td>\n",
       "      <td>397</td>\n",
       "      <td>0.090680</td>\n",
       "    </tr>\n",
       "    <tr>\n",
       "      <th>13</th>\n",
       "      <td>34.0</td>\n",
       "      <td>389</td>\n",
       "      <td>0.092545</td>\n",
       "    </tr>\n",
       "    <tr>\n",
       "      <th>14</th>\n",
       "      <td>35.0</td>\n",
       "      <td>404</td>\n",
       "      <td>0.111386</td>\n",
       "    </tr>\n",
       "    <tr>\n",
       "      <th>15</th>\n",
       "      <td>36.0</td>\n",
       "      <td>405</td>\n",
       "      <td>0.138272</td>\n",
       "    </tr>\n",
       "    <tr>\n",
       "      <th>16</th>\n",
       "      <td>37.0</td>\n",
       "      <td>424</td>\n",
       "      <td>0.087264</td>\n",
       "    </tr>\n",
       "    <tr>\n",
       "      <th>17</th>\n",
       "      <td>38.0</td>\n",
       "      <td>402</td>\n",
       "      <td>0.094527</td>\n",
       "    </tr>\n",
       "    <tr>\n",
       "      <th>18</th>\n",
       "      <td>39.0</td>\n",
       "      <td>461</td>\n",
       "      <td>0.091106</td>\n",
       "    </tr>\n",
       "    <tr>\n",
       "      <th>19</th>\n",
       "      <td>40.0</td>\n",
       "      <td>410</td>\n",
       "      <td>0.080488</td>\n",
       "    </tr>\n",
       "    <tr>\n",
       "      <th>20</th>\n",
       "      <td>41.0</td>\n",
       "      <td>421</td>\n",
       "      <td>0.090261</td>\n",
       "    </tr>\n",
       "    <tr>\n",
       "      <th>21</th>\n",
       "      <td>42.0</td>\n",
       "      <td>421</td>\n",
       "      <td>0.097387</td>\n",
       "    </tr>\n",
       "    <tr>\n",
       "      <th>22</th>\n",
       "      <td>43.0</td>\n",
       "      <td>446</td>\n",
       "      <td>0.067265</td>\n",
       "    </tr>\n",
       "    <tr>\n",
       "      <th>23</th>\n",
       "      <td>44.0</td>\n",
       "      <td>415</td>\n",
       "      <td>0.057831</td>\n",
       "    </tr>\n",
       "    <tr>\n",
       "      <th>24</th>\n",
       "      <td>45.0</td>\n",
       "      <td>352</td>\n",
       "      <td>0.065341</td>\n",
       "    </tr>\n",
       "    <tr>\n",
       "      <th>25</th>\n",
       "      <td>46.0</td>\n",
       "      <td>351</td>\n",
       "      <td>0.079772</td>\n",
       "    </tr>\n",
       "    <tr>\n",
       "      <th>26</th>\n",
       "      <td>47.0</td>\n",
       "      <td>373</td>\n",
       "      <td>0.067024</td>\n",
       "    </tr>\n",
       "    <tr>\n",
       "      <th>27</th>\n",
       "      <td>48.0</td>\n",
       "      <td>336</td>\n",
       "      <td>0.077381</td>\n",
       "    </tr>\n",
       "    <tr>\n",
       "      <th>28</th>\n",
       "      <td>49.0</td>\n",
       "      <td>348</td>\n",
       "      <td>0.068966</td>\n",
       "    </tr>\n",
       "    <tr>\n",
       "      <th>29</th>\n",
       "      <td>50.0</td>\n",
       "      <td>333</td>\n",
       "      <td>0.057057</td>\n",
       "    </tr>\n",
       "    <tr>\n",
       "      <th>30</th>\n",
       "      <td>51.0</td>\n",
       "      <td>340</td>\n",
       "      <td>0.058824</td>\n",
       "    </tr>\n",
       "    <tr>\n",
       "      <th>31</th>\n",
       "      <td>52.0</td>\n",
       "      <td>358</td>\n",
       "      <td>0.072626</td>\n",
       "    </tr>\n",
       "    <tr>\n",
       "      <th>32</th>\n",
       "      <td>53.0</td>\n",
       "      <td>377</td>\n",
       "      <td>0.076923</td>\n",
       "    </tr>\n",
       "    <tr>\n",
       "      <th>33</th>\n",
       "      <td>54.0</td>\n",
       "      <td>339</td>\n",
       "      <td>0.056047</td>\n",
       "    </tr>\n",
       "    <tr>\n",
       "      <th>34</th>\n",
       "      <td>55.0</td>\n",
       "      <td>343</td>\n",
       "      <td>0.040816</td>\n",
       "    </tr>\n",
       "    <tr>\n",
       "      <th>35</th>\n",
       "      <td>56.0</td>\n",
       "      <td>325</td>\n",
       "      <td>0.064615</td>\n",
       "    </tr>\n",
       "    <tr>\n",
       "      <th>36</th>\n",
       "      <td>57.0</td>\n",
       "      <td>319</td>\n",
       "      <td>0.050157</td>\n",
       "    </tr>\n",
       "    <tr>\n",
       "      <th>37</th>\n",
       "      <td>58.0</td>\n",
       "      <td>294</td>\n",
       "      <td>0.047619</td>\n",
       "    </tr>\n",
       "    <tr>\n",
       "      <th>38</th>\n",
       "      <td>59.0</td>\n",
       "      <td>339</td>\n",
       "      <td>0.047198</td>\n",
       "    </tr>\n",
       "    <tr>\n",
       "      <th>39</th>\n",
       "      <td>60.0</td>\n",
       "      <td>312</td>\n",
       "      <td>0.057692</td>\n",
       "    </tr>\n",
       "    <tr>\n",
       "      <th>40</th>\n",
       "      <td>61.0</td>\n",
       "      <td>327</td>\n",
       "      <td>0.055046</td>\n",
       "    </tr>\n",
       "    <tr>\n",
       "      <th>41</th>\n",
       "      <td>62.0</td>\n",
       "      <td>275</td>\n",
       "      <td>0.076364</td>\n",
       "    </tr>\n",
       "    <tr>\n",
       "      <th>42</th>\n",
       "      <td>63.0</td>\n",
       "      <td>293</td>\n",
       "      <td>0.044369</td>\n",
       "    </tr>\n",
       "    <tr>\n",
       "      <th>43</th>\n",
       "      <td>64.0</td>\n",
       "      <td>246</td>\n",
       "      <td>0.065041</td>\n",
       "    </tr>\n",
       "    <tr>\n",
       "      <th>44</th>\n",
       "      <td>65.0</td>\n",
       "      <td>216</td>\n",
       "      <td>0.055556</td>\n",
       "    </tr>\n",
       "    <tr>\n",
       "      <th>45</th>\n",
       "      <td>66.0</td>\n",
       "      <td>121</td>\n",
       "      <td>0.057851</td>\n",
       "    </tr>\n",
       "    <tr>\n",
       "      <th>46</th>\n",
       "      <td>67.0</td>\n",
       "      <td>101</td>\n",
       "      <td>0.029703</td>\n",
       "    </tr>\n",
       "    <tr>\n",
       "      <th>47</th>\n",
       "      <td>68.0</td>\n",
       "      <td>75</td>\n",
       "      <td>0.000000</td>\n",
       "    </tr>\n",
       "    <tr>\n",
       "      <th>48</th>\n",
       "      <td>69.0</td>\n",
       "      <td>15</td>\n",
       "      <td>0.066667</td>\n",
       "    </tr>\n",
       "  </tbody>\n",
       "</table>\n",
       "</div>"
      ],
      "text/plain": [
       "     age  counts  avg_default\n",
       "0   21.0      24     0.125000\n",
       "1   22.0      97     0.154639\n",
       "2   23.0     169     0.183432\n",
       "3   24.0     186     0.134409\n",
       "4   25.0     208     0.129808\n",
       "5   26.0     221     0.090498\n",
       "6   27.0     335     0.092537\n",
       "7   28.0     461     0.097614\n",
       "8   29.0     345     0.084058\n",
       "9   30.0     426     0.126761\n",
       "10  31.0     378     0.105820\n",
       "11  32.0     423     0.115839\n",
       "12  33.0     397     0.090680\n",
       "13  34.0     389     0.092545\n",
       "14  35.0     404     0.111386\n",
       "15  36.0     405     0.138272\n",
       "16  37.0     424     0.087264\n",
       "17  38.0     402     0.094527\n",
       "18  39.0     461     0.091106\n",
       "19  40.0     410     0.080488\n",
       "20  41.0     421     0.090261\n",
       "21  42.0     421     0.097387\n",
       "22  43.0     446     0.067265\n",
       "23  44.0     415     0.057831\n",
       "24  45.0     352     0.065341\n",
       "25  46.0     351     0.079772\n",
       "26  47.0     373     0.067024\n",
       "27  48.0     336     0.077381\n",
       "28  49.0     348     0.068966\n",
       "29  50.0     333     0.057057\n",
       "30  51.0     340     0.058824\n",
       "31  52.0     358     0.072626\n",
       "32  53.0     377     0.076923\n",
       "33  54.0     339     0.056047\n",
       "34  55.0     343     0.040816\n",
       "35  56.0     325     0.064615\n",
       "36  57.0     319     0.050157\n",
       "37  58.0     294     0.047619\n",
       "38  59.0     339     0.047198\n",
       "39  60.0     312     0.057692\n",
       "40  61.0     327     0.055046\n",
       "41  62.0     275     0.076364\n",
       "42  63.0     293     0.044369\n",
       "43  64.0     246     0.065041\n",
       "44  65.0     216     0.055556\n",
       "45  66.0     121     0.057851\n",
       "46  67.0     101     0.029703\n",
       "47  68.0      75     0.000000\n",
       "48  69.0      15     0.066667"
      ]
     },
     "execution_count": 10,
     "metadata": {},
     "output_type": "execute_result"
    }
   ],
   "source": [
    "## DAYS_BIRTH\n",
    "\n",
    "df['age'] = np.round((df['DAYS_BIRTH']*-1)/365, 0)\n",
    "bivariate_cat(df, 'age', 'TARGET')"
   ]
  },
  {
   "cell_type": "code",
   "execution_count": 11,
   "id": "97cefd5e",
   "metadata": {},
   "outputs": [
    {
     "data": {
      "text/plain": [
       "age_buckets\n",
       "30-40    4109\n",
       "40-50    3873\n",
       "50-60    3367\n",
       "20-30    2046\n",
       "60+      1981\n",
       "Name: count, dtype: int64"
      ]
     },
     "execution_count": 11,
     "metadata": {},
     "output_type": "execute_result"
    }
   ],
   "source": [
    "# two types of groupings\n",
    "# 1. Ethical grouping\n",
    "def age_buckets(x):\n",
    "    if(x<30):\n",
    "        return '20-30'\n",
    "    elif(x<40):\n",
    "        return '30-40'\n",
    "    elif(x<50):\n",
    "        return '40-50'\n",
    "    elif(x<60):\n",
    "        return '50-60'\n",
    "    else:\n",
    "        return '60+'\n",
    "\n",
    "df['age_buckets'] =df['age'].apply(age_buckets)\n",
    "df['age_buckets'].value_counts()"
   ]
  },
  {
   "cell_type": "code",
   "execution_count": 12,
   "id": "f41df8f2",
   "metadata": {},
   "outputs": [
    {
     "data": {
      "text/plain": [
       "Chi2ContingencyResult(statistic=100.29109108665699, pvalue=8.52852827970991e-21, dof=4, expected_freq=array([[1879.13709677,  166.86290323],\n",
       "       [3773.88774714,  335.11225286],\n",
       "       [3557.13488554,  315.86511446],\n",
       "       [3092.40205515,  274.59794485],\n",
       "       [1819.4382154 ,  161.5617846 ]]))"
      ]
     },
     "execution_count": 12,
     "metadata": {},
     "output_type": "execute_result"
    }
   ],
   "source": [
    "bivariate_cat(df, 'age_buckets', 'TARGET').to_clipboard()\n",
    "chisquare(df, 'age_buckets', 'TARGET')"
   ]
  },
  {
   "cell_type": "code",
   "execution_count": 13,
   "id": "fe8df3e1",
   "metadata": {},
   "outputs": [],
   "source": [
    "# OCCUPATION_TYPE, FLAG_OWN_CAR, age\n",
    "\n",
    "# Future analysis - Look at Drivers, Laborers and Sales Staff vs Age\n",
    "\n",
    "\n"
   ]
  },
  {
   "cell_type": "code",
   "execution_count": 14,
   "id": "2102af26",
   "metadata": {},
   "outputs": [
    {
     "data": {
      "text/plain": [
       "Chi2ContingencyResult(statistic=46.208385821005265, pvalue=5.50873683039202e-07, dof=9, expected_freq=array([[1412.55921951,  125.44078049],\n",
       "       [1437.35707317,  127.64292683],\n",
       "       [1386.84292683,  123.15707317],\n",
       "       [1411.64078049,  125.35921951],\n",
       "       [1414.39609756,  125.60390244],\n",
       "       [1409.80390244,  125.19609756],\n",
       "       [1412.55921951,  125.44078049],\n",
       "       [1411.64078049,  125.35921951],\n",
       "       [1411.64078049,  125.35921951],\n",
       "       [1412.55921951,  125.44078049]]))"
      ]
     },
     "execution_count": 14,
     "metadata": {},
     "output_type": "execute_result"
    }
   ],
   "source": [
    "# AMT_ANNUITY\n",
    "# Mathematical Bucketing\n",
    "df['amt_annuity_buckets'] = pd.qcut(df['AMT_ANNUITY'], 10, labels = False)\n",
    "bivariate_cat(df, 'amt_annuity_buckets', 'TARGET').to_clipboard()\n",
    "chisquare(df, 'amt_annuity_buckets', 'TARGET')"
   ]
  },
  {
   "cell_type": "code",
   "execution_count": 15,
   "id": "4a3189e2",
   "metadata": {},
   "outputs": [],
   "source": [
    "from scipy.stats import f_oneway\n",
    "groups = []\n",
    "for group in df['TARGET'].unique():\n",
    "    groups.append(df.loc[df['TARGET'] == group, 'AMT_ANNUITY'])\n",
    "    \n",
    "group1 = df.loc[df['TARGET'] == 1, 'AMT_ANNUITY']\n",
    "group2 = df.loc[df['TARGET'] == 0, 'AMT_ANNUITY']"
   ]
  },
  {
   "cell_type": "code",
   "execution_count": 16,
   "id": "d5aaa28f",
   "metadata": {},
   "outputs": [
    {
     "data": {
      "text/plain": [
       "0"
      ]
     },
     "execution_count": 16,
     "metadata": {},
     "output_type": "execute_result"
    },
    {
     "data": {
      "text/plain": [
       "1"
      ]
     },
     "execution_count": 16,
     "metadata": {},
     "output_type": "execute_result"
    }
   ],
   "source": [
    "group1.isnull().sum()\n",
    "group2.isnull().sum()"
   ]
  },
  {
   "cell_type": "code",
   "execution_count": 17,
   "id": "9dff749a",
   "metadata": {},
   "outputs": [
    {
     "data": {
      "text/plain": [
       "F_onewayResult(statistic=1.495929384772008, pvalue=0.22131750484058052)"
      ]
     },
     "execution_count": 17,
     "metadata": {},
     "output_type": "execute_result"
    }
   ],
   "source": [
    "f_oneway(group1, group2.dropna())"
   ]
  },
  {
   "cell_type": "code",
   "execution_count": 35,
   "id": "a01afd76",
   "metadata": {},
   "outputs": [
    {
     "data": {
      "text/plain": [
       "F_onewayResult(statistic=8.688196083251267, pvalue=0.003207586837755278)"
      ]
     },
     "execution_count": 35,
     "metadata": {},
     "output_type": "execute_result"
    }
   ],
   "source": [
    "from scipy.stats import chi2_contingency\n",
    "def chisquare(df, var1, var2):\n",
    "    crosstab = pd.crosstab(df[var1], df[var2])\n",
    "    return chi2_contingency(crosstab)\n",
    "group1 = df.loc[df['TARGET'] == 1, 'AMT_INCOME_TOTAL']\n",
    "group2 = df.loc[df['TARGET'] == 0, 'AMT_INCOME_TOTAL']\n",
    "f_oneway(group1, group2.dropna())"
   ]
  },
  {
   "cell_type": "code",
   "execution_count": 37,
   "id": "c59daf69-bad5-414e-b450-4c79d5ed3deb",
   "metadata": {},
   "outputs": [
    {
     "data": {
      "text/plain": [
       "Chi2ContingencyResult(statistic=36.69464151773973, pvalue=2.0819997287379061e-07, dof=4, expected_freq=array([[2846.25897503,  252.74102497],\n",
       "       [2823.29786681,  250.70213319],\n",
       "       [2923.40829865,  259.59170135],\n",
       "       [2900.44719043,  257.55280957],\n",
       "       [2628.58766909,  233.41233091]]))"
      ]
     },
     "execution_count": 37,
     "metadata": {},
     "output_type": "execute_result"
    }
   ],
   "source": [
    "# AMT_ANNUITY\n",
    "# Mathematical Bucketing\n",
    "df['REGION_POPULATION_RELATIVE_buckets'] = pd.qcut(df['REGION_POPULATION_RELATIVE'], 5, labels = False)\n",
    "bivariate_cat(df, 'REGION_POPULATION_RELATIVE_buckets', 'TARGET').to_clipboard()\n",
    "chisquare(df, 'REGION_POPULATION_RELATIVE_buckets', 'TARGET')"
   ]
  },
  {
   "cell_type": "code",
   "execution_count": 39,
   "id": "27d38723-b498-48ca-9a04-6c830f0db6b4",
   "metadata": {},
   "outputs": [],
   "source": [
    "from scipy.stats import f_oneway\n",
    "groups = []\n",
    "for group in df['TARGET'].unique():\n",
    "    groups.append(df.loc[df['TARGET'] == group, 'REGION_POPULATION_RELATIVE'])  \n",
    "group1 = df.loc[df['TARGET'] == 1, 'REGION_POPULATION_RELATIVE']\n",
    "group2 = df.loc[df['TARGET'] == 0, 'REGION_POPULATION_RELATIVE']"
   ]
  },
  {
   "cell_type": "code",
   "execution_count": 43,
   "id": "a7229f94-8046-4419-948c-8661915566fc",
   "metadata": {},
   "outputs": [
    {
     "data": {
      "text/plain": [
       "Chi2ContingencyResult(statistic=36.69464151773973, pvalue=2.0819997287379061e-07, dof=4, expected_freq=array([[2846.25897503,  252.74102497],\n",
       "       [2823.29786681,  250.70213319],\n",
       "       [2923.40829865,  259.59170135],\n",
       "       [2900.44719043,  257.55280957],\n",
       "       [2628.58766909,  233.41233091]]))"
      ]
     },
     "execution_count": 43,
     "metadata": {},
     "output_type": "execute_result"
    }
   ],
   "source": [
    "bivariate_cat(df, 'REGION_POPULATION_RELATIVE_buckets', 'TARGET').to_clipboard()\n",
    "chisquare(df, 'REGION_POPULATION_RELATIVE_buckets', 'TARGET')"
   ]
  },
  {
   "cell_type": "code",
   "execution_count": 41,
   "id": "fc393b96-cbce-4aa0-81d5-a71549fcb902",
   "metadata": {},
   "outputs": [
    {
     "data": {
      "text/plain": [
       "F_onewayResult(statistic=27.054286209685028, pvalue=2.0036043163930077e-07)"
      ]
     },
     "execution_count": 41,
     "metadata": {},
     "output_type": "execute_result"
    }
   ],
   "source": [
    "from scipy.stats import chi2_contingency\n",
    "def chisquare(df, var1, var2):\n",
    "    crosstab = pd.crosstab(df[var1], df[var2])\n",
    "    return chi2_contingency(crosstab)\n",
    "group1 = df.loc[df['TARGET'] == 1, 'REGION_POPULATION_RELATIVE']\n",
    "group2 = df.loc[df['TARGET'] == 0, 'REGION_POPULATION_RELATIVE']\n",
    "f_oneway(group1, group2.dropna())"
   ]
  },
  {
   "cell_type": "code",
   "execution_count": 47,
   "id": "cc03be78-e984-4c60-a8fe-ba179d42a22e",
   "metadata": {},
   "outputs": [
    {
     "data": {
      "text/plain": [
       "Chi2ContingencyResult(statistic=52.151740799174874, pvalue=4.231250871613609e-08, dof=9, expected_freq=array([[1491.55359001,  132.44640999],\n",
       "       [1452.9789282 ,  129.0210718 ],\n",
       "       [1294.08805931,  114.91194069],\n",
       "       [1418.99648803,  126.00351197],\n",
       "       [1403.38293444,  124.61706556],\n",
       "       [1417.15959938,  125.84040062],\n",
       "       [1408.89360042,  125.10639958],\n",
       "       [1582.47957856,  140.52042144],\n",
       "       [1242.6551769 ,  110.3448231 ],\n",
       "       [1409.81204475,  125.18795525]]))"
      ]
     },
     "execution_count": 47,
     "metadata": {},
     "output_type": "execute_result"
    }
   ],
   "source": [
    "# AMT_CREDIT\n",
    "# Mathematical Bucketing\n",
    "df['AMT_CREDIT_buckets'] = pd.qcut(df['AMT_CREDIT'], 10, labels = False)\n",
    "bivariate_cat(df, 'AMT_CREDIT_buckets', 'TARGET').to_clipboard()\n",
    "chisquare(df, 'AMT_CREDIT_buckets', 'TARGET')"
   ]
  }
 ],
 "metadata": {
  "kernelspec": {
   "display_name": "Python 3 (ipykernel)",
   "language": "python",
   "name": "python3"
  },
  "language_info": {
   "codemirror_mode": {
    "name": "ipython",
    "version": 3
   },
   "file_extension": ".py",
   "mimetype": "text/x-python",
   "name": "python",
   "nbconvert_exporter": "python",
   "pygments_lexer": "ipython3",
   "version": "3.12.7"
  },
  "widgets": {
   "application/vnd.jupyter.widget-state+json": {
    "state": {},
    "version_major": 2,
    "version_minor": 0
   }
  }
 },
 "nbformat": 4,
 "nbformat_minor": 5
}
